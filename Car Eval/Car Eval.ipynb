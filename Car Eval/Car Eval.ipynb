{
 "cells": [
  {
   "cell_type": "code",
   "execution_count": 198,
   "id": "2c727d1a",
   "metadata": {},
   "outputs": [],
   "source": [
    "from sklearn.ensemble import RandomForestClassifier\n",
    "from sklearn.model_selection import train_test_split\n",
    "from sklearn import metrics \n",
    "from sklearn import tree\n",
    "import pandas as pd\n",
    "import matplotlib.pyplot as mp"
   ]
  },
  {
   "cell_type": "code",
   "execution_count": 218,
   "id": "6d54cfd6",
   "metadata": {},
   "outputs": [],
   "source": [
    "features = ['Buying Price', 'Maintenance Cost ', 'Number of Doors', 'Number of Persons', \n",
    "           'Lug Boot', 'Safety', 'Decision']\n",
    "\n",
    "file_path = 'car_evaluation.csv'\n",
    "df = pd.read_csv(file_path, usecols = features)"
   ]
  },
  {
   "cell_type": "code",
   "execution_count": 219,
   "id": "7bcb9e22",
   "metadata": {},
   "outputs": [
    {
     "data": {
      "text/plain": [
       "Buying Price  Maintenance Cost   Number of Doors  Number of Persons  Lug Boot  Safety  Decision\n",
       "high          high               2                2                  big       high    unacc       1\n",
       "med           med                4                4                  med       med     acc         1\n",
       "                                                  more               small     low     unacc       1\n",
       "                                                                               high    acc         1\n",
       "                                                                     med       med     acc         1\n",
       "                                                                                                  ..\n",
       "low           low                3                2                  med       med     unacc       1\n",
       "                                                                               low     unacc       1\n",
       "                                                                               high    unacc       1\n",
       "                                                                     big       med     unacc       1\n",
       "vhigh         vhigh              5more            more               small     med     unacc       1\n",
       "Length: 1728, dtype: int64"
      ]
     },
     "execution_count": 219,
     "metadata": {},
     "output_type": "execute_result"
    }
   ],
   "source": [
    "df.value_counts()"
   ]
  },
  {
   "cell_type": "code",
   "execution_count": 221,
   "id": "72e2614d",
   "metadata": {},
   "outputs": [],
   "source": [
    "df['Buying Price'] = df['Buying Price'].replace('vhigh', 4)\n",
    "df['Buying Price'] = df['Buying Price'].replace('high', 3)\n",
    "df['Buying Price'] = df['Buying Price'].replace('med', 2)\n",
    "df['Buying Price'] = df['Buying Price'].replace('low', 1)\n",
    "\n",
    "\n",
    "df['Maintenance Cost '] = df['Maintenance Cost '].replace('vhigh', 4)\n",
    "df['Maintenance Cost '] = df['Maintenance Cost '].replace('high', 3)\n",
    "df['Maintenance Cost '] = df['Maintenance Cost '].replace('med', 2)\n",
    "df['Maintenance Cost '] = df['Maintenance Cost '].replace('low', 1)\n",
    "\n",
    "\n",
    "df['Lug Boot'] = df['Lug Boot'].replace('small', 1)\n",
    "df['Lug Boot'] = df['Lug Boot'].replace('med', 2)\n",
    "df['Lug Boot'] = df['Lug Boot'].replace('big', 3)\n",
    "\n",
    "df['Safety'] = df['Safety'].replace('low', 1)\n",
    "df['Safety'] = df['Safety'].replace('med', 2)\n",
    "df['Safety'] = df['Safety'].replace('high', 3)      \n",
    "\n",
    "df['Number of Doors'] = df['Number of Doors'].replace('5more', 5)\n",
    "df['Number of Persons'] = df['Number of Persons'].replace('more', 5)"
   ]
  },
  {
   "cell_type": "code",
   "execution_count": 222,
   "id": "00c654b7",
   "metadata": {},
   "outputs": [
    {
     "data": {
      "text/plain": [
       "Buying Price  Maintenance Cost   Number of Doors  Number of Persons  Lug Boot  Safety  Decision\n",
       "1             1                  5                5                  1         1       unacc       1\n",
       "3             3                  3                2                  2         3       unacc       1\n",
       "                                                  4                  3         2       acc         1\n",
       "                                                                               1       unacc       1\n",
       "                                                                     2         3       acc         1\n",
       "                                                                                                  ..\n",
       "2             2                  2                5                  2         3       acc         1\n",
       "                                                                               2       acc         1\n",
       "                                                                               1       unacc       1\n",
       "                                                                     1         3       unacc       1\n",
       "4             4                  4                4                  3         3       unacc       1\n",
       "Length: 1728, dtype: int64"
      ]
     },
     "execution_count": 222,
     "metadata": {},
     "output_type": "execute_result"
    }
   ],
   "source": [
    "df.value_counts()"
   ]
  },
  {
   "cell_type": "code",
   "execution_count": 223,
   "id": "2eaadad6",
   "metadata": {},
   "outputs": [],
   "source": [
    "X = df.iloc[:,0:6].to_numpy()\n",
    "y = df.iloc[:,6].tolist()"
   ]
  },
  {
   "cell_type": "code",
   "execution_count": 224,
   "id": "c7f6dbaf",
   "metadata": {},
   "outputs": [],
   "source": [
    "X_train, X_test, y_train, y_test = train_test_split(X, y, test_size = 0.4)"
   ]
  },
  {
   "cell_type": "code",
   "execution_count": 241,
   "id": "c72cebe8",
   "metadata": {},
   "outputs": [
    {
     "data": {
      "text/plain": [
       "0.9754335260115607"
      ]
     },
     "execution_count": 241,
     "metadata": {},
     "output_type": "execute_result"
    }
   ],
   "source": [
    "rf_classifier = RandomForestClassifier(criterion= 'entropy',  #TODO: provide an option \n",
    "                                    max_depth= 15,     #TODO: provide a value. The depth should not exceed 15.\n",
    "                                    max_features= 6,  #TODO: provide a suitable value\n",
    "                                    min_samples_split= 2, #TODO: provide a suitable value\n",
    "                                    n_estimators= 100, #TODO: provide a suitable value\n",
    "                                    random_state= 30 #TODO: provide a suitable value\n",
    "                                      )\n",
    "\n",
    "rf_classifier.fit(X_train, y_train)\n",
    "\n",
    "y_pred = rf_classifier.predict(X_test)\n",
    "\n",
    "metrics.accuracy_score(y_test, y_pred)"
   ]
  },
  {
   "cell_type": "code",
   "execution_count": null,
   "id": "dcb19b7c",
   "metadata": {},
   "outputs": [],
   "source": []
  }
 ],
 "metadata": {
  "kernelspec": {
   "display_name": "Python 3 (ipykernel)",
   "language": "python",
   "name": "python3"
  },
  "language_info": {
   "codemirror_mode": {
    "name": "ipython",
    "version": 3
   },
   "file_extension": ".py",
   "mimetype": "text/x-python",
   "name": "python",
   "nbconvert_exporter": "python",
   "pygments_lexer": "ipython3",
   "version": "3.9.7"
  }
 },
 "nbformat": 4,
 "nbformat_minor": 5
}
